{
  "nbformat": 4,
  "nbformat_minor": 0,
  "metadata": {
    "colab": {
      "name": "Introduccion_a_COLAB.ipynb",
      "provenance": [],
      "collapsed_sections": [],
      "include_colab_link": true
    },
    "kernelspec": {
      "name": "python3",
      "display_name": "Python 3"
    },
    "language_info": {
      "name": "python"
    }
  },
  "cells": [
    {
      "cell_type": "markdown",
      "metadata": {
        "id": "view-in-github",
        "colab_type": "text"
      },
      "source": [
        "<a href=\"https://colab.research.google.com/github/kpitan022/Intro-To-TKinter-Youtube-Course/blob/master/Introduccion_a_COLAB.ipynb\" target=\"_parent\"><img src=\"https://colab.research.google.com/assets/colab-badge.svg\" alt=\"Open In Colab\"/></a>"
      ]
    },
    {
      "cell_type": "markdown",
      "metadata": {
        "id": "908F5oFRMA2h"
      },
      "source": [
        "## COLAB: Hola Mundo!"
      ]
    },
    {
      "cell_type": "markdown",
      "metadata": {
        "id": "f0J8GP0ZMQZU"
      },
      "source": [
        "Hola mundo es un programa que imprime el texto «¡Hola, mundo!» y suele ser usado como introducción al estudio de un lenguaje de programación, siendo un primer ejercicio típico."
      ]
    },
    {
      "cell_type": "code",
      "metadata": {
        "id": "DkEuxgFpLhDg",
        "colab": {
          "base_uri": "https://localhost:8080/"
        },
        "outputId": "6322bfe3-422f-438b-a4af-07acfb92d363"
      },
      "source": [
        "print('Esta es la primer clase de IA')"
      ],
      "execution_count": null,
      "outputs": [
        {
          "output_type": "stream",
          "text": [
            "Esta es la primer clase de IA\n"
          ],
          "name": "stdout"
        }
      ]
    },
    {
      "cell_type": "markdown",
      "metadata": {
        "id": "AyBKnnWcMyLI"
      },
      "source": [
        "## Variables\n",
        "\n",
        "Las variables sirven para almacenar cualquier tipo de datos. \n",
        "\n",
        "Cada variable debe tener un nombre distinto y el mismo no puede tener espacios.\n",
        "\n",
        "<img src=\"https://www.aprendeprogramando.es/images/blockly/variables-y-tipos-de-datos/variables-en-programacion.png\" height=\"150\" />\n",
        "\n"
      ]
    },
    {
      "cell_type": "code",
      "metadata": {
        "id": "r9dY4pDDM1Jv"
      },
      "source": [
        "mi_nombre='Paula'"
      ],
      "execution_count": null,
      "outputs": []
    },
    {
      "cell_type": "code",
      "metadata": {
        "colab": {
          "base_uri": "https://localhost:8080/"
        },
        "id": "lDHiTY-zxh01",
        "outputId": "5d91aa55-74ae-4d2a-de54-36c722a55fa6"
      },
      "source": [
        "print(mi_nombre)"
      ],
      "execution_count": null,
      "outputs": [
        {
          "output_type": "stream",
          "text": [
            "Paula\n"
          ],
          "name": "stdout"
        }
      ]
    },
    {
      "cell_type": "code",
      "metadata": {
        "colab": {
          "base_uri": "https://localhost:8080/"
        },
        "id": "Fkb6ustqM2WR",
        "outputId": "a6f3183d-fa8c-4782-9bc2-0cdfd7c520ef"
      },
      "source": [
        "print('Hola', mi_nombre)"
      ],
      "execution_count": null,
      "outputs": [
        {
          "output_type": "stream",
          "text": [
            "Hola Paula\n"
          ],
          "name": "stdout"
        }
      ]
    },
    {
      "cell_type": "code",
      "metadata": {
        "id": "0nSixpYLM2ln"
      },
      "source": [
        "numero_1= 20\n",
        "numero_2= 10"
      ],
      "execution_count": null,
      "outputs": []
    },
    {
      "cell_type": "code",
      "metadata": {
        "colab": {
          "base_uri": "https://localhost:8080/"
        },
        "id": "WLUKJNYVPwvE",
        "outputId": "b90be531-335c-4b5c-e512-36a751053701"
      },
      "source": [
        "numero_1 + numero_2"
      ],
      "execution_count": null,
      "outputs": [
        {
          "output_type": "execute_result",
          "data": {
            "text/plain": [
              "30"
            ]
          },
          "metadata": {
            "tags": []
          },
          "execution_count": 34
        }
      ]
    },
    {
      "cell_type": "code",
      "metadata": {
        "colab": {
          "base_uri": "https://localhost:8080/"
        },
        "id": "hnXf9lYcPzfq",
        "outputId": "8e9eaf6c-0ff9-41f4-b795-8912c01c0e87"
      },
      "source": [
        "numero_1 - numero_2"
      ],
      "execution_count": null,
      "outputs": [
        {
          "output_type": "execute_result",
          "data": {
            "text/plain": [
              "10"
            ]
          },
          "metadata": {
            "tags": []
          },
          "execution_count": 35
        }
      ]
    },
    {
      "cell_type": "markdown",
      "metadata": {
        "id": "mZSBB5quQHYl"
      },
      "source": [
        "## Tipos de variables\n",
        "\n",
        "- Numericas\n",
        "- Textos (Strings)\n",
        "- Fecha y hora\n",
        "- Objetos: DataFrame (muy utilizado en ciencia de datos)"
      ]
    },
    {
      "cell_type": "markdown",
      "metadata": {
        "id": "Th7WA6za6bd-"
      },
      "source": [
        "Por si no viene instalado pandas\n",
        "\n",
        "pip install pandas "
      ]
    },
    {
      "cell_type": "code",
      "metadata": {
        "id": "nQFM_3tQQJzz"
      },
      "source": [
        "import pandas as pd"
      ],
      "execution_count": null,
      "outputs": []
    },
    {
      "cell_type": "code",
      "metadata": {
        "colab": {
          "base_uri": "https://localhost:8080/",
          "height": 141
        },
        "id": "B2o_c78WzC60",
        "outputId": "7868d30a-2fe1-49ad-ae52-bc13d0f35d5c"
      },
      "source": [
        "pd.DataFrame([[2, 3], [4,5],[1,3]])"
      ],
      "execution_count": null,
      "outputs": [
        {
          "output_type": "execute_result",
          "data": {
            "text/html": [
              "<div>\n",
              "<style scoped>\n",
              "    .dataframe tbody tr th:only-of-type {\n",
              "        vertical-align: middle;\n",
              "    }\n",
              "\n",
              "    .dataframe tbody tr th {\n",
              "        vertical-align: top;\n",
              "    }\n",
              "\n",
              "    .dataframe thead th {\n",
              "        text-align: right;\n",
              "    }\n",
              "</style>\n",
              "<table border=\"1\" class=\"dataframe\">\n",
              "  <thead>\n",
              "    <tr style=\"text-align: right;\">\n",
              "      <th></th>\n",
              "      <th>0</th>\n",
              "      <th>1</th>\n",
              "    </tr>\n",
              "  </thead>\n",
              "  <tbody>\n",
              "    <tr>\n",
              "      <th>0</th>\n",
              "      <td>2</td>\n",
              "      <td>3</td>\n",
              "    </tr>\n",
              "    <tr>\n",
              "      <th>1</th>\n",
              "      <td>4</td>\n",
              "      <td>5</td>\n",
              "    </tr>\n",
              "    <tr>\n",
              "      <th>2</th>\n",
              "      <td>1</td>\n",
              "      <td>3</td>\n",
              "    </tr>\n",
              "  </tbody>\n",
              "</table>\n",
              "</div>"
            ],
            "text/plain": [
              "   0  1\n",
              "0  2  3\n",
              "1  4  5\n",
              "2  1  3"
            ]
          },
          "metadata": {
            "tags": []
          },
          "execution_count": 37
        }
      ]
    },
    {
      "cell_type": "code",
      "metadata": {
        "id": "GMnP22SZzjzv"
      },
      "source": [
        "tabla1=pd.DataFrame([[2,3], [4,5], [1,3]])"
      ],
      "execution_count": null,
      "outputs": []
    },
    {
      "cell_type": "code",
      "metadata": {
        "colab": {
          "base_uri": "https://localhost:8080/",
          "height": 141
        },
        "id": "pKHbPFF1zwZu",
        "outputId": "decbc63e-e688-469d-8032-5d3d0632a525"
      },
      "source": [
        "tabla1"
      ],
      "execution_count": null,
      "outputs": [
        {
          "output_type": "execute_result",
          "data": {
            "text/html": [
              "<div>\n",
              "<style scoped>\n",
              "    .dataframe tbody tr th:only-of-type {\n",
              "        vertical-align: middle;\n",
              "    }\n",
              "\n",
              "    .dataframe tbody tr th {\n",
              "        vertical-align: top;\n",
              "    }\n",
              "\n",
              "    .dataframe thead th {\n",
              "        text-align: right;\n",
              "    }\n",
              "</style>\n",
              "<table border=\"1\" class=\"dataframe\">\n",
              "  <thead>\n",
              "    <tr style=\"text-align: right;\">\n",
              "      <th></th>\n",
              "      <th>0</th>\n",
              "      <th>1</th>\n",
              "    </tr>\n",
              "  </thead>\n",
              "  <tbody>\n",
              "    <tr>\n",
              "      <th>0</th>\n",
              "      <td>2</td>\n",
              "      <td>3</td>\n",
              "    </tr>\n",
              "    <tr>\n",
              "      <th>1</th>\n",
              "      <td>4</td>\n",
              "      <td>5</td>\n",
              "    </tr>\n",
              "    <tr>\n",
              "      <th>2</th>\n",
              "      <td>1</td>\n",
              "      <td>3</td>\n",
              "    </tr>\n",
              "  </tbody>\n",
              "</table>\n",
              "</div>"
            ],
            "text/plain": [
              "   0  1\n",
              "0  2  3\n",
              "1  4  5\n",
              "2  1  3"
            ]
          },
          "metadata": {
            "tags": []
          },
          "execution_count": 39
        }
      ]
    },
    {
      "cell_type": "markdown",
      "metadata": {
        "id": "1xd5CeLO60ao"
      },
      "source": [
        "Cambiar nombre de las columnas"
      ]
    },
    {
      "cell_type": "code",
      "metadata": {
        "id": "vB40a1OYz6-K"
      },
      "source": [
        "tabla1.columns=['Columna1', 'Columna2']"
      ],
      "execution_count": null,
      "outputs": []
    },
    {
      "cell_type": "code",
      "metadata": {
        "colab": {
          "base_uri": "https://localhost:8080/",
          "height": 141
        },
        "id": "oS6xUUC90G-z",
        "outputId": "d3b9fdb0-5600-48fb-bbb5-79ffe3aa7517"
      },
      "source": [
        "tabla1"
      ],
      "execution_count": null,
      "outputs": [
        {
          "output_type": "execute_result",
          "data": {
            "text/html": [
              "<div>\n",
              "<style scoped>\n",
              "    .dataframe tbody tr th:only-of-type {\n",
              "        vertical-align: middle;\n",
              "    }\n",
              "\n",
              "    .dataframe tbody tr th {\n",
              "        vertical-align: top;\n",
              "    }\n",
              "\n",
              "    .dataframe thead th {\n",
              "        text-align: right;\n",
              "    }\n",
              "</style>\n",
              "<table border=\"1\" class=\"dataframe\">\n",
              "  <thead>\n",
              "    <tr style=\"text-align: right;\">\n",
              "      <th></th>\n",
              "      <th>Columna1</th>\n",
              "      <th>Columna2</th>\n",
              "    </tr>\n",
              "  </thead>\n",
              "  <tbody>\n",
              "    <tr>\n",
              "      <th>0</th>\n",
              "      <td>2</td>\n",
              "      <td>3</td>\n",
              "    </tr>\n",
              "    <tr>\n",
              "      <th>1</th>\n",
              "      <td>4</td>\n",
              "      <td>5</td>\n",
              "    </tr>\n",
              "    <tr>\n",
              "      <th>2</th>\n",
              "      <td>1</td>\n",
              "      <td>3</td>\n",
              "    </tr>\n",
              "  </tbody>\n",
              "</table>\n",
              "</div>"
            ],
            "text/plain": [
              "   Columna1  Columna2\n",
              "0         2         3\n",
              "1         4         5\n",
              "2         1         3"
            ]
          },
          "metadata": {
            "tags": []
          },
          "execution_count": 41
        }
      ]
    },
    {
      "cell_type": "markdown",
      "metadata": {
        "id": "fAvnCFUN63xW"
      },
      "source": [
        "Mostrar solo la columna 1"
      ]
    },
    {
      "cell_type": "code",
      "metadata": {
        "colab": {
          "base_uri": "https://localhost:8080/"
        },
        "id": "WZLaAlE00QN4",
        "outputId": "088a0a4d-68d4-4e58-d544-b0eed89bbcb4"
      },
      "source": [
        "tabla1.Columna1"
      ],
      "execution_count": null,
      "outputs": [
        {
          "output_type": "execute_result",
          "data": {
            "text/plain": [
              "0    2\n",
              "1    4\n",
              "2    1\n",
              "Name: Columna1, dtype: int64"
            ]
          },
          "metadata": {
            "tags": []
          },
          "execution_count": 42
        }
      ]
    },
    {
      "cell_type": "markdown",
      "metadata": {
        "id": "oWtM-BwC67xW"
      },
      "source": [
        "Sumar todos los numeros de la primer columna"
      ]
    },
    {
      "cell_type": "code",
      "metadata": {
        "colab": {
          "base_uri": "https://localhost:8080/"
        },
        "id": "0lS5H7ug0n8F",
        "outputId": "20966c09-6e72-46d0-88db-78a5e2b7ca3b"
      },
      "source": [
        "tabla1.Columna1.sum()"
      ],
      "execution_count": null,
      "outputs": [
        {
          "output_type": "execute_result",
          "data": {
            "text/plain": [
              "7"
            ]
          },
          "metadata": {
            "tags": []
          },
          "execution_count": 43
        }
      ]
    },
    {
      "cell_type": "markdown",
      "metadata": {
        "id": "-ecGivNR7FDK"
      },
      "source": [
        "Mostrar el valor maximo de la columna 2"
      ]
    },
    {
      "cell_type": "code",
      "metadata": {
        "colab": {
          "base_uri": "https://localhost:8080/"
        },
        "id": "PL6OgGSf0u5J",
        "outputId": "7043b08d-3ef3-4cd6-9b57-c73419caaef4"
      },
      "source": [
        "tabla1.Columna2.max()"
      ],
      "execution_count": null,
      "outputs": [
        {
          "output_type": "execute_result",
          "data": {
            "text/plain": [
              "5"
            ]
          },
          "metadata": {
            "tags": []
          },
          "execution_count": 44
        }
      ]
    },
    {
      "cell_type": "markdown",
      "metadata": {
        "id": "jtmqo7h_7D2Q"
      },
      "source": [
        "Mostrar el valor minimo de la columna 1"
      ]
    },
    {
      "cell_type": "code",
      "metadata": {
        "colab": {
          "base_uri": "https://localhost:8080/"
        },
        "id": "QF9Q7Fm31Nxf",
        "outputId": "4c904e1a-1526-4091-acdf-1f207de41fe8"
      },
      "source": [
        "tabla1.Columna1.min()"
      ],
      "execution_count": null,
      "outputs": [
        {
          "output_type": "execute_result",
          "data": {
            "text/plain": [
              "1"
            ]
          },
          "metadata": {
            "tags": []
          },
          "execution_count": 45
        }
      ]
    },
    {
      "cell_type": "markdown",
      "metadata": {
        "id": "RlQV6zAL1tSE"
      },
      "source": [
        "Seleccionar la fila 3 de la tabla"
      ]
    },
    {
      "cell_type": "code",
      "metadata": {
        "colab": {
          "base_uri": "https://localhost:8080/"
        },
        "id": "eiHXH4W-1a59",
        "outputId": "23878430-d572-4546-8985-bcaa8064c2a1"
      },
      "source": [
        "tabla1.iloc[2,]"
      ],
      "execution_count": null,
      "outputs": [
        {
          "output_type": "execute_result",
          "data": {
            "text/plain": [
              "Columna1    1\n",
              "Columna2    3\n",
              "Name: 2, dtype: int64"
            ]
          },
          "metadata": {
            "tags": []
          },
          "execution_count": 46
        }
      ]
    },
    {
      "cell_type": "markdown",
      "metadata": {
        "id": "6oJzG54q15PL"
      },
      "source": [
        "Seleccionar de la fila 3 el contenido de la primer columna"
      ]
    },
    {
      "cell_type": "code",
      "metadata": {
        "colab": {
          "base_uri": "https://localhost:8080/"
        },
        "id": "V3IF2ZNC13dq",
        "outputId": "88d9c924-4d3c-40eb-d8f6-205945cca03b"
      },
      "source": [
        "tabla1.iloc[2, 0]"
      ],
      "execution_count": null,
      "outputs": [
        {
          "output_type": "execute_result",
          "data": {
            "text/plain": [
              "1"
            ]
          },
          "metadata": {
            "tags": []
          },
          "execution_count": 47
        }
      ]
    },
    {
      "cell_type": "code",
      "metadata": {
        "colab": {
          "base_uri": "https://localhost:8080/"
        },
        "id": "h6pNKIdl2U-T",
        "outputId": "80fa643e-f03a-43e6-9932-69b49f52f94d"
      },
      "source": [
        "tabla1.iloc[:,0]"
      ],
      "execution_count": null,
      "outputs": [
        {
          "output_type": "execute_result",
          "data": {
            "text/plain": [
              "0    2\n",
              "1    4\n",
              "2    1\n",
              "Name: Columna1, dtype: int64"
            ]
          },
          "metadata": {
            "tags": []
          },
          "execution_count": 48
        }
      ]
    }
  ]
}